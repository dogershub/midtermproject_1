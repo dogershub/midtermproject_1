{
 "cells": [
  {
   "cell_type": "code",
   "execution_count": 2,
   "metadata": {},
   "outputs": [],
   "source": [
    "import pandas as pd\n",
    "import numpy as np\n"
   ]
  },
  {
   "attachments": {},
   "cell_type": "markdown",
   "metadata": {},
   "source": [
    "### Importing Data"
   ]
  },
  {
   "cell_type": "code",
   "execution_count": 3,
   "metadata": {},
   "outputs": [],
   "source": [
    "# Load the data into a pandas dataframe\n",
    "df = pd.read_csv(\"./Airlines.csv\")"
   ]
  },
  {
   "cell_type": "code",
   "execution_count": 4,
   "metadata": {},
   "outputs": [
    {
     "data": {
      "text/html": [
       "<div>\n",
       "<style scoped>\n",
       "    .dataframe tbody tr th:only-of-type {\n",
       "        vertical-align: middle;\n",
       "    }\n",
       "\n",
       "    .dataframe tbody tr th {\n",
       "        vertical-align: top;\n",
       "    }\n",
       "\n",
       "    .dataframe thead th {\n",
       "        text-align: right;\n",
       "    }\n",
       "</style>\n",
       "<table border=\"1\" class=\"dataframe\">\n",
       "  <thead>\n",
       "    <tr style=\"text-align: right;\">\n",
       "      <th></th>\n",
       "      <th>Unnamed: 0</th>\n",
       "      <th>Year</th>\n",
       "      <th>Quarter</th>\n",
       "      <th>Month</th>\n",
       "      <th>DayofMonth</th>\n",
       "      <th>DayOfWeek</th>\n",
       "      <th>DOT_ID_Reporting_Airline</th>\n",
       "      <th>Flight_Number_Reporting_Airline</th>\n",
       "      <th>OriginAirportID</th>\n",
       "      <th>OriginAirportSeqID</th>\n",
       "      <th>...</th>\n",
       "      <th>Div4WheelsOff</th>\n",
       "      <th>Div4TailNum</th>\n",
       "      <th>Div5Airport</th>\n",
       "      <th>Div5AirportID</th>\n",
       "      <th>Div5AirportSeqID</th>\n",
       "      <th>Div5WheelsOn</th>\n",
       "      <th>Div5TotalGTime</th>\n",
       "      <th>Div5LongestGTime</th>\n",
       "      <th>Div5WheelsOff</th>\n",
       "      <th>Div5TailNum</th>\n",
       "    </tr>\n",
       "  </thead>\n",
       "  <tbody>\n",
       "    <tr>\n",
       "      <th>count</th>\n",
       "      <td>50001.000000</td>\n",
       "      <td>50001.000000</td>\n",
       "      <td>50001.000000</td>\n",
       "      <td>50001.000000</td>\n",
       "      <td>50001.000000</td>\n",
       "      <td>50001.000000</td>\n",
       "      <td>50001.000000</td>\n",
       "      <td>50001.000000</td>\n",
       "      <td>50001.000000</td>\n",
       "      <td>5.000100e+04</td>\n",
       "      <td>...</td>\n",
       "      <td>0.0</td>\n",
       "      <td>0.0</td>\n",
       "      <td>0.0</td>\n",
       "      <td>0.0</td>\n",
       "      <td>0.0</td>\n",
       "      <td>0.0</td>\n",
       "      <td>0.0</td>\n",
       "      <td>0.0</td>\n",
       "      <td>0.0</td>\n",
       "      <td>0.0</td>\n",
       "    </tr>\n",
       "    <tr>\n",
       "      <th>mean</th>\n",
       "      <td>25000.000000</td>\n",
       "      <td>2004.297814</td>\n",
       "      <td>2.499230</td>\n",
       "      <td>6.493650</td>\n",
       "      <td>15.707946</td>\n",
       "      <td>3.935701</td>\n",
       "      <td>19924.668987</td>\n",
       "      <td>1733.920922</td>\n",
       "      <td>12718.709206</td>\n",
       "      <td>1.271873e+06</td>\n",
       "      <td>...</td>\n",
       "      <td>NaN</td>\n",
       "      <td>NaN</td>\n",
       "      <td>NaN</td>\n",
       "      <td>NaN</td>\n",
       "      <td>NaN</td>\n",
       "      <td>NaN</td>\n",
       "      <td>NaN</td>\n",
       "      <td>NaN</td>\n",
       "      <td>NaN</td>\n",
       "      <td>NaN</td>\n",
       "    </tr>\n",
       "    <tr>\n",
       "      <th>std</th>\n",
       "      <td>14434.189742</td>\n",
       "      <td>9.228586</td>\n",
       "      <td>1.120752</td>\n",
       "      <td>3.455136</td>\n",
       "      <td>8.757785</td>\n",
       "      <td>1.989031</td>\n",
       "      <td>366.544796</td>\n",
       "      <td>1671.689653</td>\n",
       "      <td>1529.043164</td>\n",
       "      <td>1.529041e+05</td>\n",
       "      <td>...</td>\n",
       "      <td>NaN</td>\n",
       "      <td>NaN</td>\n",
       "      <td>NaN</td>\n",
       "      <td>NaN</td>\n",
       "      <td>NaN</td>\n",
       "      <td>NaN</td>\n",
       "      <td>NaN</td>\n",
       "      <td>NaN</td>\n",
       "      <td>NaN</td>\n",
       "      <td>NaN</td>\n",
       "    </tr>\n",
       "    <tr>\n",
       "      <th>min</th>\n",
       "      <td>0.000000</td>\n",
       "      <td>1987.000000</td>\n",
       "      <td>1.000000</td>\n",
       "      <td>1.000000</td>\n",
       "      <td>1.000000</td>\n",
       "      <td>1.000000</td>\n",
       "      <td>19386.000000</td>\n",
       "      <td>1.000000</td>\n",
       "      <td>10135.000000</td>\n",
       "      <td>1.013501e+06</td>\n",
       "      <td>...</td>\n",
       "      <td>NaN</td>\n",
       "      <td>NaN</td>\n",
       "      <td>NaN</td>\n",
       "      <td>NaN</td>\n",
       "      <td>NaN</td>\n",
       "      <td>NaN</td>\n",
       "      <td>NaN</td>\n",
       "      <td>NaN</td>\n",
       "      <td>NaN</td>\n",
       "      <td>NaN</td>\n",
       "    </tr>\n",
       "    <tr>\n",
       "      <th>25%</th>\n",
       "      <td>12500.000000</td>\n",
       "      <td>1997.000000</td>\n",
       "      <td>1.000000</td>\n",
       "      <td>3.000000</td>\n",
       "      <td>8.000000</td>\n",
       "      <td>2.000000</td>\n",
       "      <td>19704.000000</td>\n",
       "      <td>523.000000</td>\n",
       "      <td>11292.000000</td>\n",
       "      <td>1.129202e+06</td>\n",
       "      <td>...</td>\n",
       "      <td>NaN</td>\n",
       "      <td>NaN</td>\n",
       "      <td>NaN</td>\n",
       "      <td>NaN</td>\n",
       "      <td>NaN</td>\n",
       "      <td>NaN</td>\n",
       "      <td>NaN</td>\n",
       "      <td>NaN</td>\n",
       "      <td>NaN</td>\n",
       "      <td>NaN</td>\n",
       "    </tr>\n",
       "    <tr>\n",
       "      <th>50%</th>\n",
       "      <td>25000.000000</td>\n",
       "      <td>2005.000000</td>\n",
       "      <td>3.000000</td>\n",
       "      <td>7.000000</td>\n",
       "      <td>16.000000</td>\n",
       "      <td>4.000000</td>\n",
       "      <td>19805.000000</td>\n",
       "      <td>1182.000000</td>\n",
       "      <td>12892.000000</td>\n",
       "      <td>1.289201e+06</td>\n",
       "      <td>...</td>\n",
       "      <td>NaN</td>\n",
       "      <td>NaN</td>\n",
       "      <td>NaN</td>\n",
       "      <td>NaN</td>\n",
       "      <td>NaN</td>\n",
       "      <td>NaN</td>\n",
       "      <td>NaN</td>\n",
       "      <td>NaN</td>\n",
       "      <td>NaN</td>\n",
       "      <td>NaN</td>\n",
       "    </tr>\n",
       "    <tr>\n",
       "      <th>75%</th>\n",
       "      <td>37500.000000</td>\n",
       "      <td>2012.000000</td>\n",
       "      <td>3.000000</td>\n",
       "      <td>9.000000</td>\n",
       "      <td>23.000000</td>\n",
       "      <td>6.000000</td>\n",
       "      <td>20355.000000</td>\n",
       "      <td>2236.000000</td>\n",
       "      <td>14057.000000</td>\n",
       "      <td>1.405701e+06</td>\n",
       "      <td>...</td>\n",
       "      <td>NaN</td>\n",
       "      <td>NaN</td>\n",
       "      <td>NaN</td>\n",
       "      <td>NaN</td>\n",
       "      <td>NaN</td>\n",
       "      <td>NaN</td>\n",
       "      <td>NaN</td>\n",
       "      <td>NaN</td>\n",
       "      <td>NaN</td>\n",
       "      <td>NaN</td>\n",
       "    </tr>\n",
       "    <tr>\n",
       "      <th>max</th>\n",
       "      <td>50000.000000</td>\n",
       "      <td>2020.000000</td>\n",
       "      <td>4.000000</td>\n",
       "      <td>12.000000</td>\n",
       "      <td>31.000000</td>\n",
       "      <td>7.000000</td>\n",
       "      <td>21171.000000</td>\n",
       "      <td>9572.000000</td>\n",
       "      <td>16440.000000</td>\n",
       "      <td>1.644001e+06</td>\n",
       "      <td>...</td>\n",
       "      <td>NaN</td>\n",
       "      <td>NaN</td>\n",
       "      <td>NaN</td>\n",
       "      <td>NaN</td>\n",
       "      <td>NaN</td>\n",
       "      <td>NaN</td>\n",
       "      <td>NaN</td>\n",
       "      <td>NaN</td>\n",
       "      <td>NaN</td>\n",
       "      <td>NaN</td>\n",
       "    </tr>\n",
       "  </tbody>\n",
       "</table>\n",
       "<p>8 rows × 93 columns</p>\n",
       "</div>"
      ],
      "text/plain": [
       "         Unnamed: 0          Year       Quarter         Month    DayofMonth  \\\n",
       "count  50001.000000  50001.000000  50001.000000  50001.000000  50001.000000   \n",
       "mean   25000.000000   2004.297814      2.499230      6.493650     15.707946   \n",
       "std    14434.189742      9.228586      1.120752      3.455136      8.757785   \n",
       "min        0.000000   1987.000000      1.000000      1.000000      1.000000   \n",
       "25%    12500.000000   1997.000000      1.000000      3.000000      8.000000   \n",
       "50%    25000.000000   2005.000000      3.000000      7.000000     16.000000   \n",
       "75%    37500.000000   2012.000000      3.000000      9.000000     23.000000   \n",
       "max    50000.000000   2020.000000      4.000000     12.000000     31.000000   \n",
       "\n",
       "          DayOfWeek  DOT_ID_Reporting_Airline  \\\n",
       "count  50001.000000              50001.000000   \n",
       "mean       3.935701              19924.668987   \n",
       "std        1.989031                366.544796   \n",
       "min        1.000000              19386.000000   \n",
       "25%        2.000000              19704.000000   \n",
       "50%        4.000000              19805.000000   \n",
       "75%        6.000000              20355.000000   \n",
       "max        7.000000              21171.000000   \n",
       "\n",
       "       Flight_Number_Reporting_Airline  OriginAirportID  OriginAirportSeqID  \\\n",
       "count                     50001.000000     50001.000000        5.000100e+04   \n",
       "mean                       1733.920922     12718.709206        1.271873e+06   \n",
       "std                        1671.689653      1529.043164        1.529041e+05   \n",
       "min                           1.000000     10135.000000        1.013501e+06   \n",
       "25%                         523.000000     11292.000000        1.129202e+06   \n",
       "50%                        1182.000000     12892.000000        1.289201e+06   \n",
       "75%                        2236.000000     14057.000000        1.405701e+06   \n",
       "max                        9572.000000     16440.000000        1.644001e+06   \n",
       "\n",
       "       ...  Div4WheelsOff  Div4TailNum  Div5Airport  Div5AirportID  \\\n",
       "count  ...            0.0          0.0          0.0            0.0   \n",
       "mean   ...            NaN          NaN          NaN            NaN   \n",
       "std    ...            NaN          NaN          NaN            NaN   \n",
       "min    ...            NaN          NaN          NaN            NaN   \n",
       "25%    ...            NaN          NaN          NaN            NaN   \n",
       "50%    ...            NaN          NaN          NaN            NaN   \n",
       "75%    ...            NaN          NaN          NaN            NaN   \n",
       "max    ...            NaN          NaN          NaN            NaN   \n",
       "\n",
       "       Div5AirportSeqID  Div5WheelsOn  Div5TotalGTime  Div5LongestGTime  \\\n",
       "count               0.0           0.0             0.0               0.0   \n",
       "mean                NaN           NaN             NaN               NaN   \n",
       "std                 NaN           NaN             NaN               NaN   \n",
       "min                 NaN           NaN             NaN               NaN   \n",
       "25%                 NaN           NaN             NaN               NaN   \n",
       "50%                 NaN           NaN             NaN               NaN   \n",
       "75%                 NaN           NaN             NaN               NaN   \n",
       "max                 NaN           NaN             NaN               NaN   \n",
       "\n",
       "       Div5WheelsOff  Div5TailNum  \n",
       "count            0.0          0.0  \n",
       "mean             NaN          NaN  \n",
       "std              NaN          NaN  \n",
       "min              NaN          NaN  \n",
       "25%              NaN          NaN  \n",
       "50%              NaN          NaN  \n",
       "75%              NaN          NaN  \n",
       "max              NaN          NaN  \n",
       "\n",
       "[8 rows x 93 columns]"
      ]
     },
     "execution_count": 4,
     "metadata": {},
     "output_type": "execute_result"
    }
   ],
   "source": [
    "df.describe()"
   ]
  },
  {
   "attachments": {},
   "cell_type": "markdown",
   "metadata": {},
   "source": [
    "### Subsetting"
   ]
  },
  {
   "cell_type": "code",
   "execution_count": 5,
   "metadata": {},
   "outputs": [
    {
     "data": {
      "text/plain": [
       "0       1998-01-02\n",
       "1       2009-05-28\n",
       "2       2013-06-29\n",
       "3       2010-08-31\n",
       "4       2006-01-15\n",
       "           ...    \n",
       "49996   1999-10-12\n",
       "49997   2010-11-01\n",
       "49998   2006-04-30\n",
       "49999   2009-07-08\n",
       "50000   2006-05-17\n",
       "Name: Date, Length: 50001, dtype: datetime64[ns]"
      ]
     },
     "execution_count": 5,
     "metadata": {},
     "output_type": "execute_result"
    }
   ],
   "source": [
    "#MERGING YEAR,MONTH,AND DAYOFMONTH\n",
    "df[\"Date\"]=pd.to_datetime(df['Year'].astype(str)+'-'+ df['Month'].astype(str)+'-'+ df['DayofMonth'].astype(str), yearfirst=True)\n",
    "df['Date']"
   ]
  },
  {
   "cell_type": "code",
   "execution_count": 6,
   "metadata": {},
   "outputs": [],
   "source": [
    "df[\"AirTime\"]=df[\"AirTime\"].fillna(0)"
   ]
  },
  {
   "cell_type": "code",
   "execution_count": 7,
   "metadata": {},
   "outputs": [
    {
     "data": {
      "text/html": [
       "<div>\n",
       "<style scoped>\n",
       "    .dataframe tbody tr th:only-of-type {\n",
       "        vertical-align: middle;\n",
       "    }\n",
       "\n",
       "    .dataframe tbody tr th {\n",
       "        vertical-align: top;\n",
       "    }\n",
       "\n",
       "    .dataframe thead th {\n",
       "        text-align: right;\n",
       "    }\n",
       "</style>\n",
       "<table border=\"1\" class=\"dataframe\">\n",
       "  <thead>\n",
       "    <tr style=\"text-align: right;\">\n",
       "      <th></th>\n",
       "      <th>DepDelayMinutes</th>\n",
       "      <th>DepDel15</th>\n",
       "    </tr>\n",
       "  </thead>\n",
       "  <tbody>\n",
       "    <tr>\n",
       "      <th>0</th>\n",
       "      <td>19.0</td>\n",
       "      <td>1.0</td>\n",
       "    </tr>\n",
       "    <tr>\n",
       "      <th>1</th>\n",
       "      <td>0.0</td>\n",
       "      <td>0.0</td>\n",
       "    </tr>\n",
       "    <tr>\n",
       "      <th>2</th>\n",
       "      <td>14.0</td>\n",
       "      <td>0.0</td>\n",
       "    </tr>\n",
       "    <tr>\n",
       "      <th>3</th>\n",
       "      <td>0.0</td>\n",
       "      <td>0.0</td>\n",
       "    </tr>\n",
       "    <tr>\n",
       "      <th>4</th>\n",
       "      <td>51.0</td>\n",
       "      <td>1.0</td>\n",
       "    </tr>\n",
       "    <tr>\n",
       "      <th>...</th>\n",
       "      <td>...</td>\n",
       "      <td>...</td>\n",
       "    </tr>\n",
       "    <tr>\n",
       "      <th>49996</th>\n",
       "      <td>0.0</td>\n",
       "      <td>0.0</td>\n",
       "    </tr>\n",
       "    <tr>\n",
       "      <th>49997</th>\n",
       "      <td>0.0</td>\n",
       "      <td>0.0</td>\n",
       "    </tr>\n",
       "    <tr>\n",
       "      <th>49998</th>\n",
       "      <td>0.0</td>\n",
       "      <td>0.0</td>\n",
       "    </tr>\n",
       "    <tr>\n",
       "      <th>49999</th>\n",
       "      <td>0.0</td>\n",
       "      <td>0.0</td>\n",
       "    </tr>\n",
       "    <tr>\n",
       "      <th>50000</th>\n",
       "      <td>18.0</td>\n",
       "      <td>1.0</td>\n",
       "    </tr>\n",
       "  </tbody>\n",
       "</table>\n",
       "<p>50001 rows × 2 columns</p>\n",
       "</div>"
      ],
      "text/plain": [
       "       DepDelayMinutes  DepDel15\n",
       "0                 19.0       1.0\n",
       "1                  0.0       0.0\n",
       "2                 14.0       0.0\n",
       "3                  0.0       0.0\n",
       "4                 51.0       1.0\n",
       "...                ...       ...\n",
       "49996              0.0       0.0\n",
       "49997              0.0       0.0\n",
       "49998              0.0       0.0\n",
       "49999              0.0       0.0\n",
       "50000             18.0       1.0\n",
       "\n",
       "[50001 rows x 2 columns]"
      ]
     },
     "execution_count": 7,
     "metadata": {},
     "output_type": "execute_result"
    }
   ],
   "source": [
    "dep_delay = df[[\"DepDelayMinutes\",\"DepDel15\"]]\n",
    "dep_delay\n"
   ]
  },
  {
   "cell_type": "code",
   "execution_count": 8,
   "metadata": {},
   "outputs": [],
   "source": [
    "# arr_delay = df[[\"ArrDelayMinutes\",\"ArrDel15\"]]\n",
    "# arr_delay"
   ]
  },
  {
   "attachments": {},
   "cell_type": "markdown",
   "metadata": {},
   "source": [
    "### Cleaning"
   ]
  },
  {
   "cell_type": "code",
   "execution_count": 9,
   "metadata": {},
   "outputs": [
    {
     "data": {
      "text/plain": [
       "DepDelayMinutes    871\n",
       "DepDel15           871\n",
       "dtype: int64"
      ]
     },
     "execution_count": 9,
     "metadata": {},
     "output_type": "execute_result"
    }
   ],
   "source": [
    "dep_delay.isnull().sum()"
   ]
  },
  {
   "cell_type": "code",
   "execution_count": 10,
   "metadata": {},
   "outputs": [],
   "source": [
    "dep_delay = dep_delay.fillna(0)"
   ]
  },
  {
   "cell_type": "code",
   "execution_count": 11,
   "metadata": {},
   "outputs": [
    {
     "data": {
      "text/plain": [
       "DepDelayMinutes    0\n",
       "DepDel15           0\n",
       "dtype: int64"
      ]
     },
     "execution_count": 11,
     "metadata": {},
     "output_type": "execute_result"
    }
   ],
   "source": [
    "dep_delay.isnull().sum()"
   ]
  },
  {
   "attachments": {},
   "cell_type": "markdown",
   "metadata": {},
   "source": [
    "### QUERIES"
   ]
  },
  {
   "cell_type": "code",
   "execution_count": 12,
   "metadata": {},
   "outputs": [
    {
     "data": {
      "text/plain": [
       "1        1541.0\n",
       "3        2015.0\n",
       "12       1511.0\n",
       "18       2313.0\n",
       "30       1449.0\n",
       "          ...  \n",
       "49965    1908.0\n",
       "49967     950.0\n",
       "49979    2251.0\n",
       "49983      28.0\n",
       "50000     803.0\n",
       "Name: ArrTime, Length: 11670, dtype: float64"
      ]
     },
     "execution_count": 12,
     "metadata": {},
     "output_type": "execute_result"
    }
   ],
   "source": [
    "\n",
    "#1. Airlines that has flown more than 1000 distance\n",
    "distance = df[df['Distance']>1000]\n",
    "distance[\"ArrTime\"]\n",
    "\n"
   ]
  },
  {
   "cell_type": "code",
   "execution_count": 13,
   "metadata": {},
   "outputs": [
    {
     "data": {
      "text/plain": [
       "0        NW\n",
       "2        MQ\n",
       "4        US\n",
       "5        DL\n",
       "6        CO\n",
       "         ..\n",
       "49995    EV\n",
       "49996    WN\n",
       "49997    OH\n",
       "49998    UA\n",
       "49999    F9\n",
       "Name: Reporting_Airline, Length: 38331, dtype: object"
      ]
     },
     "execution_count": 13,
     "metadata": {},
     "output_type": "execute_result"
    }
   ],
   "source": [
    "#2. Airline names that has flown less than 1000 distance\n",
    "distance = df[df['Distance']<1000]\n",
    "distance[\"Reporting_Airline\"]"
   ]
  },
  {
   "cell_type": "code",
   "execution_count": 14,
   "metadata": {},
   "outputs": [
    {
     "name": "stdout",
     "output_type": "stream",
     "text": [
      "The Number of cancle flight are :     count(Cancelled)  Cancelled\n",
      "0               878          1\n"
     ]
    }
   ],
   "source": [
    "\n",
    "from pandasql import sqldf\n",
    "# !conda install --yes pandasql # if Library can not work, Run line only\n",
    "pysqldf=lambda q:sqldf(q,globals())\n",
    "result_C=pysqldf(\"Select count(Cancelled),Cancelled from df where Cancelled==1 \")\n",
    "print (\"The Number of cancle flight are : \",result_C)\n",
    "\n",
    "\n",
    "\n",
    "# df[\"Cancelled\"][df[\"Cancelled\"]==1].sum()"
   ]
  },
  {
   "cell_type": "code",
   "execution_count": 15,
   "metadata": {},
   "outputs": [
    {
     "name": "stdout",
     "output_type": "stream",
     "text": [
      "The Number of flight has done :     count(Cancelled)  Cancelled\n",
      "0             49123          0\n"
     ]
    }
   ],
   "source": [
    "result_NC=pysqldf(\"Select count(Cancelled),Cancelled from df where Cancelled==0 \")\n",
    "print (\"The Number of flight has done : \",result_NC)"
   ]
  },
  {
   "cell_type": "code",
   "execution_count": 16,
   "metadata": {},
   "outputs": [],
   "source": [
    "import matplotlib.pyplot as plt\n",
    "import seaborn as sns"
   ]
  },
  {
   "cell_type": "code",
   "execution_count": 17,
   "metadata": {},
   "outputs": [
    {
     "data": {
      "text/plain": [
       "<AxesSubplot:xlabel='CancellationCode', ylabel='count'>"
      ]
     },
     "execution_count": 17,
     "metadata": {},
     "output_type": "execute_result"
    },
    {
     "data": {
      "image/png": "[encoded data removed]",
      "text/plain": [
       "<Figure size 640x480 with 1 Axes>"
      ]
     },
     "metadata": {},
     "output_type": "display_data"
    }
   ],
   "source": [
    "#------->#PLOTTING GRAPH USING SEABORN TO DISPLAY WHY THE FLIGHT WAS CANCELLED<----------\n",
    "\n",
    "# A - Carrier-Initiated Cancellation: This type of cancellation occurs when the airline cancels\n",
    "#  the flight for reasons such as maintenance, crew unavailability, or scheduling changes.\n",
    "\n",
    "# B - Weather-Related Cancellation: This type of cancellation occurs when the flight is canceled \n",
    "# due to weather conditions that make flying unsafe. Examples include heavy snow, thunderstorms, \n",
    "# and hurricanes.\n",
    "\n",
    "# C - National Air Traffic Services (ATS) Cancellation: This type of cancellation occurs when the \n",
    "# air traffic control authority cancels the flight due to issues such as airspace restrictions, \n",
    "# staffing problems, or technical malfunctions.\n",
    "\n",
    "# D - Security-Related Cancellation: This type of cancellation occurs when the flight is canceled \n",
    "# due to security concerns, such as a threat of terrorism or a breach of airport security.\n",
    "\n",
    "sns.countplot(x='CancellationCode',data=df)"
   ]
  },
  {
   "cell_type": "code",
   "execution_count": 18,
   "metadata": {},
   "outputs": [
    {
     "data": {
      "text/plain": [
       "<AxesSubplot:xlabel='Month', ylabel='count'>"
      ]
     },
     "execution_count": 18,
     "metadata": {},
     "output_type": "execute_result"
    },
    {
     "data": {
      "image/png": "[encoded data removed]",
      "text/plain": [
       "<Figure size 640x480 with 1 Axes>"
      ]
     },
     "metadata": {},
     "output_type": "display_data"
    }
   ],
   "source": [
    "#----->PLOTTING GRAPH USING SEABORN TO DISPLAY IN WHICH MONTH HAS HIGHEST CANCELLATION AND THEIR REASON\n",
    "sns.countplot(x=\"Month\",hue=\"CancellationCode\",data=df)"
   ]
  }
 ],
 "metadata": {
  "kernelspec": {
   "display_name": "Python 3 (ipykernel)",
   "language": "python",
   "name": "python3"
  },
  "language_info": {
   "codemirror_mode": {
    "name": "ipython",
    "version": 3
   },
   "file_extension": ".py",
   "mimetype": "text/x-python",
   "name": "python",
   "nbconvert_exporter": "python",
   "pygments_lexer": "ipython3",
   "version": "3.9.13"
  },
  "vscode": {
   "interpreter": {
    "hash": "4fe7953e5450dd7eb8d938975601557943fa5a57cbeec7fc4a6d3484627bc5d1"
   }
  }
 },
 "nbformat": 4,
 "nbformat_minor": 2
}
